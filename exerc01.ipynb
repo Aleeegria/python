{
 "cells": [
  {
   "cell_type": "code",
   "execution_count": 1,
   "metadata": {},
   "outputs": [
    {
     "name": "stdout",
     "output_type": "stream",
     "text": [
      "3\n",
      "13\n",
      "Heloo\n"
     ]
    }
   ],
   "source": [
    "# Primeira função - Print()\n",
    "\n",
    "print(9 - 6)\n",
    "print(5 + 8)\n",
    "print(\"Heloo\")\n",
    "\n"
   ]
  },
  {
   "cell_type": "code",
   "execution_count": 2,
   "metadata": {},
   "outputs": [
    {
     "name": "stdout",
     "output_type": "stream",
     "text": [
      "5\n"
     ]
    }
   ],
   "source": [
    "# Definindo tipo int\n",
    "\n",
    "x = 5\n",
    "print(x)"
   ]
  },
  {
   "cell_type": "code",
   "execution_count": 4,
   "metadata": {},
   "outputs": [
    {
     "data": {
      "text/plain": [
       "int"
      ]
     },
     "execution_count": 4,
     "metadata": {},
     "output_type": "execute_result"
    }
   ],
   "source": [
    "# Função Type()\n",
    "dias_ano = 365\n",
    "type(dias_ano)\n",
    " "
   ]
  },
  {
   "cell_type": "code",
   "execution_count": 5,
   "metadata": {},
   "outputs": [
    {
     "name": "stdout",
     "output_type": "stream",
     "text": [
      "52\n"
     ]
    }
   ],
   "source": [
    "# Soma\n",
    "\n",
    "a = 20\n",
    "b = 32\n",
    "c = a + b\n",
    "print(c)\n"
   ]
  },
  {
   "cell_type": "code",
   "execution_count": 6,
   "metadata": {},
   "outputs": [
    {
     "name": "stdout",
     "output_type": "stream",
     "text": [
      "-11\n"
     ]
    }
   ],
   "source": [
    "# Subtração\n",
    "\n",
    "a = 59\n",
    "b = 70\n",
    "print(a - b)\n",
    " "
   ]
  },
  {
   "cell_type": "code",
   "execution_count": 7,
   "metadata": {},
   "outputs": [
    {
     "name": "stdout",
     "output_type": "stream",
     "text": [
      "O peso é de 500 N.\n"
     ]
    }
   ],
   "source": [
    "# Multiplicação\n",
    "\n",
    "massa = 50\n",
    "gravidade = 10\n",
    "peso = massa * gravidade\n",
    "\n",
    "print(f\"O peso é de {peso} N.\")"
   ]
  },
  {
   "cell_type": "code",
   "execution_count": 8,
   "metadata": {},
   "outputs": [
    {
     "name": "stdout",
     "output_type": "stream",
     "text": [
      "O quociente é 16, e o resto é 4.\n"
     ]
    }
   ],
   "source": [
    "# Divisão Euclidiana (apenas inteiros)\n",
    "\n",
    "dividendo = 100\n",
    "divisor = 6\n",
    "\n",
    "# Usamos // para obter um inteiro como resposta\n",
    "\n",
    "quociente = 100 // 6\n",
    "\n",
    "# Usamos % para obter o resto de uma divisão\n",
    "resto = 100 % 6\n",
    "\n",
    "print(f\"O quociente é {quociente}, e o resto é {resto}.\")"
   ]
  },
  {
   "cell_type": "code",
   "execution_count": 9,
   "metadata": {},
   "outputs": [
    {
     "name": "stdout",
     "output_type": "stream",
     "text": [
      "A velocidade é de 11.11111111111111 m/s.\n"
     ]
    }
   ],
   "source": [
    "# Divisão Comum ( usamos o operador \"/Nova pasta (3)\"\n",
    "\n",
    "distancia = 100\n",
    "tempo = 9\n",
    "\n",
    "print(F\"A velocidade é de {distancia / tempo} m/s.\")"
   ]
  },
  {
   "cell_type": "code",
   "execution_count": 11,
   "metadata": {},
   "outputs": [
    {
     "data": {
      "text/plain": [
       "float"
      ]
     },
     "execution_count": 11,
     "metadata": {},
     "output_type": "execute_result"
    }
   ],
   "source": [
    "# Ver o tipo de variavel\n",
    "\n",
    "type(distancia / tempo)\n"
   ]
  },
  {
   "cell_type": "code",
   "execution_count": 12,
   "metadata": {},
   "outputs": [
    {
     "name": "stdout",
     "output_type": "stream",
     "text": [
      "6.0\n"
     ]
    }
   ],
   "source": [
    "# Definindo tipo float\n",
    "\n",
    "a = 1.0 + 5\n",
    "print(a)\n"
   ]
  },
  {
   "cell_type": "code",
   "execution_count": 13,
   "metadata": {},
   "outputs": [
    {
     "name": "stdout",
     "output_type": "stream",
     "text": [
      "Área = 19.625\n"
     ]
    }
   ],
   "source": [
    "# Exponencial (**)\n",
    "\n",
    "pi = 3.14\n",
    "raio = 2.5\n",
    "area = pi * (raio ** 2)\n",
    "print(f\"Área = {area}\")\n"
   ]
  },
  {
   "cell_type": "code",
   "execution_count": 16,
   "metadata": {},
   "outputs": [
    {
     "name": "stdout",
     "output_type": "stream",
     "text": [
      "Para fazer raiz quadrada basta elevar a meio. A raiz de 55 é 7.416198487095663.\n"
     ]
    }
   ],
   "source": [
    "# Raiz Quadrada\n",
    "\n",
    "print (f\"Para fazer raiz quadrada basta elevar a meio. A raiz de 55 é {55**0.5}.\")\n"
   ]
  },
  {
   "cell_type": "code",
   "execution_count": 17,
   "metadata": {},
   "outputs": [
    {
     "name": "stdout",
     "output_type": "stream",
     "text": [
      "Pi vale aproximadamente 3.142.\n"
     ]
    }
   ],
   "source": [
    "# Arredondar\n",
    "\n",
    "pi = 3.141592653589793238462643383279502884197169399375105820974944\n",
    "arred_pi = round(pi, 3)\n",
    "print(f\"Pi vale aproximadamente {arred_pi}.\")\n"
   ]
  },
  {
   "cell_type": "code",
   "execution_count": 18,
   "metadata": {},
   "outputs": [
    {
     "name": "stdout",
     "output_type": "stream",
     "text": [
      "False\n"
     ]
    }
   ],
   "source": [
    "# Definindo tipo bool\n",
    "\n",
    "x = False\n",
    "print(x)\n"
   ]
  },
  {
   "cell_type": "code",
   "execution_count": 21,
   "metadata": {},
   "outputs": [
    {
     "name": "stdout",
     "output_type": "stream",
     "text": [
      "3\n",
      "3\n"
     ]
    }
   ],
   "source": [
    "# X é uma instância que vale 1\n",
    "\n",
    "x = 1\n",
    "b = x + 2\n",
    "print(b)"
   ]
  },
  {
   "cell_type": "code",
   "execution_count": 22,
   "metadata": {},
   "outputs": [
    {
     "name": "stdout",
     "output_type": "stream",
     "text": [
      "3\n"
     ]
    }
   ],
   "source": [
    "b = x + 2\n",
    "print(b)"
   ]
  },
  {
   "cell_type": "code",
   "execution_count": 23,
   "metadata": {},
   "outputs": [
    {
     "name": "stdout",
     "output_type": "stream",
     "text": [
      "False\n"
     ]
    }
   ],
   "source": [
    "# Podemos comparar 2 variaveis e ele retornara um bool.\n",
    "\n",
    "a = 12.01\n",
    "b = 12\n",
    "\n",
    "# Para comparar 2 numeros usamos o igual 2 vezes (==)\n",
    "\n",
    "c = (a == b)\n",
    "print(c)"
   ]
  },
  {
   "cell_type": "code",
   "execution_count": 24,
   "metadata": {},
   "outputs": [
    {
     "data": {
      "text/plain": [
       "str"
      ]
     },
     "execution_count": 24,
     "metadata": {},
     "output_type": "execute_result"
    }
   ],
   "source": [
    "# Definindo tipo str\n",
    "\n",
    "nome = \"FEA.DEV\"\n",
    "type(nome)\n"
   ]
  },
  {
   "cell_type": "code",
   "execution_count": 25,
   "metadata": {},
   "outputs": [
    {
     "name": "stdout",
     "output_type": "stream",
     "text": [
      "FEA.DEV é a melhor entidade da FEA !!!\n"
     ]
    }
   ],
   "source": [
    "qualidade = \" é a melhor entidade da FEA !!!\"\n",
    "\n",
    "print(nome + qualidade)\n"
   ]
  },
  {
   "cell_type": "code",
   "execution_count": 26,
   "metadata": {},
   "outputs": [
    {
     "name": "stdout",
     "output_type": "stream",
     "text": [
      "FEA.DEV É A MELHOR ENTIDADE DA FEA !!!\n"
     ]
    }
   ],
   "source": [
    "# Podemos deixar tudo maiusculo com o metodo .upper()\n",
    "\n",
    "verdade = nome + qualidade\n",
    "verdade = verdade.upper()\n",
    "print(verdade)\n"
   ]
  },
  {
   "cell_type": "code",
   "execution_count": 27,
   "metadata": {},
   "outputs": [
    {
     "name": "stdout",
     "output_type": "stream",
     "text": [
      "fea.dev é a melhor entidade da fea !!!\n"
     ]
    }
   ],
   "source": [
    "# Podemos deixar tudo minusculo com o metodo .lower()\n",
    "\n",
    "verdade = verdade.lower()\n",
    "print(verdade)"
   ]
  },
  {
   "cell_type": "code",
   "execution_count": 34,
   "metadata": {},
   "outputs": [
    {
     "name": "stdout",
     "output_type": "stream",
     "text": [
      "fea.dev é a melhor entidade da fea !!!\n"
     ]
    },
    {
     "data": {
      "text/plain": [
       "'dev é a melhor'"
      ]
     },
     "execution_count": 34,
     "metadata": {},
     "output_type": "execute_result"
    }
   ],
   "source": [
    "# Podemos selecionar apenas uma parte com a tecnica chamada slicing\n",
    "\n",
    "print(verdade)\n",
    "verdade[4:18]\n"
   ]
  },
  {
   "cell_type": "code",
   "execution_count": 35,
   "metadata": {},
   "outputs": [
    {
     "name": "stdout",
     "output_type": "stream",
     "text": [
      "fea.dev é a melhor entidade da fea !!!\n",
      "ev é a melhor entidade d\n"
     ]
    }
   ],
   "source": [
    "print (verdade)\n",
    "print(verdade[5:29])"
   ]
  },
  {
   "cell_type": "code",
   "execution_count": 39,
   "metadata": {},
   "outputs": [
    {
     "name": "stdout",
     "output_type": "stream",
     "text": [
      "ev é a melhor ent\n"
     ]
    }
   ],
   "source": [
    "# Outro metodo é o .split()\n",
    "\n",
    "verdade.split()\n",
    "print(verdade[5:22])\n"
   ]
  },
  {
   "cell_type": "code",
   "execution_count": 43,
   "metadata": {},
   "outputs": [
    {
     "data": {
      "text/plain": [
       "list"
      ]
     },
     "execution_count": 43,
     "metadata": {},
     "output_type": "execute_result"
    }
   ],
   "source": [
    "type(verdade.split())"
   ]
  },
  {
   "cell_type": "code",
   "execution_count": 48,
   "metadata": {},
   "outputs": [
    {
     "name": "stdout",
     "output_type": "stream",
     "text": [
      "['FEA.dev', 10, 'Oie', 7.5]\n"
     ]
    }
   ],
   "source": [
    "# Definindo tipo list\n",
    "\n",
    "lista = [\"FEA.dev\", 10, \"Oie\", 7.5]\n",
    "print(lista)"
   ]
  },
  {
   "cell_type": "code",
   "execution_count": 49,
   "metadata": {},
   "outputs": [
    {
     "name": "stdout",
     "output_type": "stream",
     "text": [
      "7.5\n"
     ]
    }
   ],
   "source": [
    "# Acessando um elemento\n",
    "\n",
    "elmt = lista[3]\n",
    "print(elmt)"
   ]
  },
  {
   "cell_type": "code",
   "execution_count": 53,
   "metadata": {},
   "outputs": [
    {
     "name": "stdout",
     "output_type": "stream",
     "text": [
      "44.7\n",
      "7.45\n"
     ]
    }
   ],
   "source": [
    "# Operações com elementos\n",
    "\n",
    "notas = [9.7, 5, 6.5, 7, 8, 8.5] # Lista com notas\n",
    "\n",
    "media = notas[0] + notas[1] + notas[2] + notas[3] + notas[4] + notas[5]\n",
    "\n",
    "print(media)\n",
    "\n",
    "media = media / 6 \n",
    "\n",
    "print(media)\n",
    "\n"
   ]
  },
  {
   "cell_type": "code",
   "execution_count": 56,
   "metadata": {},
   "outputs": [
    {
     "name": "stdout",
     "output_type": "stream",
     "text": [
      "7.45\n"
     ]
    }
   ],
   "source": [
    "# Funções com listas \n",
    "\n",
    "# Calcular a media\n",
    "\n",
    "media = sum(notas) / len(notas)\n",
    "\n",
    "print(media)\n",
    "\n",
    "\n"
   ]
  },
  {
   "cell_type": "code",
   "execution_count": 57,
   "metadata": {},
   "outputs": [
    {
     "name": "stdout",
     "output_type": "stream",
     "text": [
      "Amplitude = 4.699999999999999\n"
     ]
    }
   ],
   "source": [
    "# Ver a diferença entre a maior e a menor nota\n",
    "\n",
    "print(f'Amplitude = {max(notas) - min(notas)}')\n"
   ]
  },
  {
   "cell_type": "code",
   "execution_count": 58,
   "metadata": {},
   "outputs": [
    {
     "name": "stdout",
     "output_type": "stream",
     "text": [
      "[5, 6.5, 7, 8, 8.5, 9.7]\n"
     ]
    }
   ],
   "source": [
    "# Organizando notas\n",
    "\n",
    "notas = [9.7, 5, 6.5, 7, 8, 8.5]\n",
    "notas.sort()\n",
    "print(notas)\n"
   ]
  },
  {
   "cell_type": "code",
   "execution_count": 59,
   "metadata": {},
   "outputs": [
    {
     "name": "stdout",
     "output_type": "stream",
     "text": [
      "[5, 6.5, 7, 8, 8.5, 9.7, '7.5']\n"
     ]
    }
   ],
   "source": [
    "# Adicionando uma nova nota no *** final da lista ***\n",
    "\n",
    "notas.append(\"7.5\")\n",
    "print(notas)\n"
   ]
  },
  {
   "cell_type": "code",
   "execution_count": 60,
   "metadata": {},
   "outputs": [
    {
     "name": "stdout",
     "output_type": "stream",
     "text": [
      "[5, 6.5, 7, 8, 8.5, 9.7]\n"
     ]
    }
   ],
   "source": [
    "# Foi adicionado 'acidentalmente' uma string, para remover o ultimo elemento da lista\n",
    "\n",
    "notas.pop()\n",
    "print(notas)\n"
   ]
  },
  {
   "cell_type": "code",
   "execution_count": 61,
   "metadata": {},
   "outputs": [
    {
     "name": "stdout",
     "output_type": "stream",
     "text": [
      "[5, 6.5, 7, 8, 8.5, 9.7, 7.5]\n",
      "[5, 6.5, 7, 7.5, 8, 8.5, 9.7]\n",
      "3\n",
      "[5, 6.5, 7, 7.5, 8, 8.5, 9.7]\n"
     ]
    }
   ],
   "source": [
    "# Adicionar corretamente a nota, organizar a lista e mostrar seu index\n",
    "\n",
    "notas.append(7.5)\n",
    "print(notas)\n",
    "notas.sort()\n",
    "print(notas)\n",
    "lugar = notas.index(7.5)\n",
    "\n",
    "print(lugar)\n",
    "print(notas)\n",
    "\n"
   ]
  },
  {
   "cell_type": "code",
   "execution_count": 67,
   "metadata": {},
   "outputs": [
    {
     "name": "stdout",
     "output_type": "stream",
     "text": [
      "(10, 'FEA', 7.5)\n"
     ]
    },
    {
     "data": {
      "text/plain": [
       "tuple"
      ]
     },
     "execution_count": 67,
     "metadata": {},
     "output_type": "execute_result"
    }
   ],
   "source": [
    "# Definindo uma tupla  *** são imutaveis, seus elementos nao trocam de posicao\n",
    "\n",
    "tupla = (10, \"FEA\", 7.5)\n",
    "print(tupla)\n",
    "type(tupla)\n",
    "\n"
   ]
  },
  {
   "cell_type": "code",
   "execution_count": 64,
   "metadata": {},
   "outputs": [
    {
     "data": {
      "text/plain": [
       "7.5"
      ]
     },
     "execution_count": 64,
     "metadata": {},
     "output_type": "execute_result"
    }
   ],
   "source": [
    "# Acessar o elemento de index 2\n",
    "\n",
    "tupla[2]\n"
   ]
  },
  {
   "cell_type": "code",
   "execution_count": 68,
   "metadata": {},
   "outputs": [
    {
     "name": "stdout",
     "output_type": "stream",
     "text": [
      "Maximo = 9.7\n",
      "Minimo = 5\n",
      "Soma = 52.2\n",
      "Tamanho = 7\n"
     ]
    }
   ],
   "source": [
    "# Funcoes com tuplas\n",
    "\n",
    "notas_tupla = (5, 6.5, 7, 8, 8.5, 9.7, 7.5)\n",
    "print(f\"Maximo = {max(notas_tupla)}\")\n",
    "print(f\"Minimo = {min(notas_tupla)}\")\n",
    "print(f\"Soma = {sum(notas_tupla)}\")\n",
    "print(f\"Tamanho = {len(notas_tupla)}\")"
   ]
  },
  {
   "cell_type": "code",
   "execution_count": null,
   "metadata": {},
   "outputs": [],
   "source": [
    "# Erro tentando alterar tupla\n",
    "\n",
    "notas_tupla.append(7)"
   ]
  },
  {
   "cell_type": "code",
   "execution_count": 71,
   "metadata": {},
   "outputs": [
    {
     "name": "stdout",
     "output_type": "stream",
     "text": [
      "{1: 'FEA.dev', 'a': 10, 14: 7.5}\n"
     ]
    }
   ],
   "source": [
    "# Definindo tipo dict \n",
    "# qualquer tipo para *** Chave:Valor ***\n",
    "# sem index acesso pela chave \n",
    "\n",
    "dicionario = { 1 : \"FEA.dev\",   \"a\" : 10,   14 : 7.5}\n",
    "type(dicionario)\n",
    "\n",
    "print(dicionario)\n"
   ]
  },
  {
   "cell_type": "code",
   "execution_count": 76,
   "metadata": {},
   "outputs": [
    {
     "ename": "KeyError",
     "evalue": "0",
     "output_type": "error",
     "traceback": [
      "\u001b[1;31m---------------------------------------------------------------------------\u001b[0m",
      "\u001b[1;31mKeyError\u001b[0m                                  Traceback (most recent call last)",
      "\u001b[1;32md:\\USP - PYTHON\\2022\\exerc01.ipynb Célula 40\u001b[0m line \u001b[0;36m3\n\u001b[0;32m      <a href='vscode-notebook-cell:/d%3A/USP%20-%20PYTHON/2022/exerc01.ipynb#X60sZmlsZQ%3D%3D?line=0'>1</a>\u001b[0m \u001b[39m# Erro ao tentar achar elemento de indice 0 ou 2\u001b[39;00m\n\u001b[1;32m----> <a href='vscode-notebook-cell:/d%3A/USP%20-%20PYTHON/2022/exerc01.ipynb#X60sZmlsZQ%3D%3D?line=2'>3</a>\u001b[0m dicionario[\u001b[39m0\u001b[39;49m]\n\u001b[0;32m      <a href='vscode-notebook-cell:/d%3A/USP%20-%20PYTHON/2022/exerc01.ipynb#X60sZmlsZQ%3D%3D?line=3'>4</a>\u001b[0m dicionario[\u001b[39m2\u001b[39m]\n",
      "\u001b[1;31mKeyError\u001b[0m: 0"
     ]
    }
   ],
   "source": [
    "# Erro ao tentar achar elemento de indice 0 ou 2\n",
    "\n",
    "dicionario[0]\n",
    "dicionario[2]\n"
   ]
  },
  {
   "cell_type": "code",
   "execution_count": 73,
   "metadata": {},
   "outputs": [
    {
     "data": {
      "text/plain": [
       "'FEA.dev'"
      ]
     },
     "execution_count": 73,
     "metadata": {},
     "output_type": "execute_result"
    }
   ],
   "source": [
    "# Chave \"1\" para mostrar o valor\n",
    "\n",
    "dicionario[1]\n"
   ]
  },
  {
   "cell_type": "code",
   "execution_count": 74,
   "metadata": {},
   "outputs": [
    {
     "data": {
      "text/plain": [
       "10"
      ]
     },
     "execution_count": 74,
     "metadata": {},
     "output_type": "execute_result"
    }
   ],
   "source": [
    "# Chave \"a\" para mostrar o valor\n",
    "\n",
    "dicionario[\"a\"]\n"
   ]
  },
  {
   "cell_type": "code",
   "execution_count": 75,
   "metadata": {},
   "outputs": [
    {
     "name": "stdout",
     "output_type": "stream",
     "text": [
      "{1: 'FEA.dev', 'a': 10, 14: 7.5, 'Novo': 2021}\n"
     ]
    }
   ],
   "source": [
    "# Criar novo elemento com nova Chave:Valor, ~= variavel\n",
    "\n",
    "dicionario[\"Novo\"] = 2021\n",
    "print(dicionario)\n"
   ]
  },
  {
   "cell_type": "code",
   "execution_count": 77,
   "metadata": {},
   "outputs": [
    {
     "name": "stdout",
     "output_type": "stream",
     "text": [
      "{1: 'FEA.dev', 'a': 'Oie', 14: 7.5, 'Novo': 2021}\n"
     ]
    }
   ],
   "source": [
    "# Substituir elemento\n",
    "\n",
    "dicionario[\"a\"] = \"Oie\"\n",
    "print(dicionario)\n"
   ]
  }
 ],
 "metadata": {
  "kernelspec": {
   "display_name": "Python 3",
   "language": "python",
   "name": "python3"
  },
  "language_info": {
   "codemirror_mode": {
    "name": "ipython",
    "version": 3
   },
   "file_extension": ".py",
   "mimetype": "text/x-python",
   "name": "python",
   "nbconvert_exporter": "python",
   "pygments_lexer": "ipython3",
   "version": "3.11.5"
  },
  "orig_nbformat": 4
 },
 "nbformat": 4,
 "nbformat_minor": 2
}
