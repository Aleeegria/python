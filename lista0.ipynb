{
 "cells": [
  {
   "cell_type": "markdown",
   "metadata": {},
   "source": [
    "Questão 01 - Crie um conversor de real em dólares. Imprima o resultado usando a função format."
   ]
  },
  {
   "cell_type": "code",
   "execution_count": 3,
   "metadata": {},
   "outputs": [
    {
     "name": "stdout",
     "output_type": "stream",
     "text": [
      "R$98.0 equivale a $539.0 dolares\n"
     ]
    }
   ],
   "source": [
    "# Variavel recebe do usuario valor a ser convertido\n",
    "\n",
    "real = float(input(\"Coloque o valor a ser convertido : \"))\n",
    "\n",
    "# valor do dolar\n",
    "\n",
    "dolar= 5.5\n",
    "\n",
    "# Variavel recebe multiplicacao\n",
    "\n",
    "valor_convertido = real * dolar\n",
    "\n",
    "# Exibe a conversão\n",
    "\n",
    "print(\"R${} equivale a ${} dolares\". format(real, valor_convertido))\n"
   ]
  },
  {
   "cell_type": "markdown",
   "metadata": {},
   "source": [
    "Questão 2:Crie um sistema que imprima o valor que você vai pagar e o desconto que você teria em determinado item do supermercado. Imprima concatenando."
   ]
  },
  {
   "cell_type": "code",
   "execution_count": 9,
   "metadata": {},
   "outputs": [
    {
     "name": "stdout",
     "output_type": "stream",
     "text": [
      " O valor pago foi de R$ 520.1925000000001 e o desconto foi de R$ 19.35\n"
     ]
    }
   ],
   "source": [
    "# Variavel recebe do usuario valor do produto\n",
    "\n",
    "valor_produto = float(input(\"Escreva o valor do produto : \"))\n",
    "\n",
    "# Variavel recebe do usuario porcentagem do desconto\n",
    "\n",
    "porcentagem_desconto = int(input(\"Escreva a porcentagem do desconto : \"))\n",
    "\n",
    "# Variavel recebe valor do desconto\n",
    "\n",
    "valor_desconto = valor_produto * porcentagem_desconto / 100\n",
    "\n",
    "# Variavel recebe valor do produto com desconto\n",
    "\n",
    "valor_produto_final = (valor_produto * (100 - valor_desconto)) / 100\n",
    "\n",
    "# Exibe o resultado\n",
    "\n",
    "print(\" O valor pago foi de R$ \" + str(valor_produto_final) \n",
    "      + \" e o desconto foi de R$ \" \n",
    "      + str(valor_desconto))\n",
    "\n"
   ]
  },
  {
   "cell_type": "markdown",
   "metadata": {},
   "source": [
    "Questão 3: Você chegou na última questão da Fuvest, e se você acertar essa você entra na USP. A questão diz o seguinte:\n",
    "\n",
    "Faça as operações abaixo usando os operadores e imprima o resultado delas:\n",
    "\n",
    "    2 multiplicado por 3\n",
    "    2 adicionado a 65\n",
    "    5 dividido por 10\n",
    "    O resto da divisão de 4 por 3\n",
    "    Subtrair 4 de 10\n",
    "    2 elevado a 4\n",
    "    A parte inteira do resultado de 10 dividido por 3    \n",
    "    A raíz quadrada de 4"
   ]
  },
  {
   "cell_type": "code",
   "execution_count": 11,
   "metadata": {},
   "outputs": [
    {
     "name": "stdout",
     "output_type": "stream",
     "text": [
      "6 67 0.5 1 6 16 3 2.0\n"
     ]
    }
   ],
   "source": [
    "# Atribui valores as variaveis e exibe resultados das operacoes\n",
    "\n",
    "x = 2 * 3\n",
    "y = 2 + 65\n",
    "z = 5 / 10 \n",
    "a = 4 % 3       # % retorna resto\n",
    "b = 10 - 4\n",
    "c = 2 ** 4\n",
    "d = 10 // 3     # // retorna parte inteira\n",
    "e = 4 ** 1/2\n",
    "\n",
    "# Exibe o resultado\n",
    "\n",
    "print(x, y, z, a, b, c, d, e)"
   ]
  },
  {
   "cell_type": "markdown",
   "metadata": {},
   "source": [
    "Questão 4: Você está correndo risco de ser jubilado, então, precisa escrever uma carta para o reitor com seus dados pessoais :\n",
    "\n",
    "nome,idade,curso e ano de ingresso, \n",
    "\n",
    "para suplicar pela sua estadia na USP. Use seus dados como variáveis e os imprima:"
   ]
  },
  {
   "cell_type": "code",
   "execution_count": 19,
   "metadata": {},
   "outputs": [
    {
     "name": "stdout",
     "output_type": "stream",
     "text": [
      "Eu, Alexandra, tenho 57 anos, faco o curso :  ' Python na USP '  e entrei no ano : 2023. Eu imploro que não me jubilem ): \n"
     ]
    }
   ],
   "source": [
    "# Atribui valores as variaveis e exibe concatenacao delas\n",
    "\n",
    "nome = \"Alexandra\"\n",
    "idade = 57\n",
    "curso = \" ' Python na USP ' \"\n",
    "ano_ingresso = 2023\n",
    "\n",
    "# Exibe o resultado\n",
    "\n",
    "print(\"Eu, {}, tenho {} anos, faco o curso : {} e entrei no ano : {}. Eu imploro que não me jubilem ): \".format(nome, idade, curso, ano_ingresso))"
   ]
  },
  {
   "cell_type": "markdown",
   "metadata": {},
   "source": [
    "Questão 5: Calcule a função abaixo:\n",
    "\n",
    "1. 4a^2+5b a=5 b=3\n",
    "\n",
    "2. 4a-(3b)/2 a=92 b=76"
   ]
  },
  {
   "cell_type": "code",
   "execution_count": 20,
   "metadata": {},
   "outputs": [
    {
     "name": "stdout",
     "output_type": "stream",
     "text": [
      "125\n",
      "254.0\n"
     ]
    }
   ],
   "source": [
    "# Questao 1 - atribui valores as variaveis e realiza operacao\n",
    "\n",
    "a = 5\n",
    "b = 3\n",
    "valor1 = 4 * (a ** 2) + 5 * 5\n",
    "\n",
    "# Exibe o resultado\n",
    "print(valor1)\n",
    "\n",
    "# Questao 2 - atribui valores as variaveis e realiza operacao\n",
    "\n",
    "a = 92\n",
    "b = 76\n",
    "valor2 = 4 * a - ( 3 * b) / 2\n",
    "\n",
    "# Exibe o resultado\n",
    "print(valor2)\n"
   ]
  },
  {
   "cell_type": "markdown",
   "metadata": {},
   "source": [
    "Questão 5:\n",
    "\n",
    "Hoje é seu dia de sorte, seu chefe falou que você e todos os outros estagiários vão ter um aumento de 7,3% nos salários. \n",
    "\n",
    "Faça um programa que mostre automaticamente o valor do salário com o aumento quando o estagiário inserir o quanto ganha atualmente."
   ]
  },
  {
   "cell_type": "code",
   "execution_count": 29,
   "metadata": {},
   "outputs": [
    {
     "name": "stdout",
     "output_type": "stream",
     "text": [
      " O seu salario antigo era de R$ 5000.0. O chefe deu aumento para todos !!! O seu salario atual é R$ 5365.0.\n"
     ]
    }
   ],
   "source": [
    "# Variavel recebe do usuario valor do salario antigo\n",
    "\n",
    "salario_anterior = float(input(\"Insira seu antigo salario : \"))\n",
    "\n",
    "# Variavel recebe valor calculado com aumento do salario \n",
    "salario_atual = (1 + 7.3 / 100) * salario_anterior\n",
    "\n",
    "# Exibe o resultado\n",
    "print(\" O seu salario antigo era de R$ {}. O chefe deu aumento para todos !!! O seu salario atual é R$ {}.\".format(salario_anterior, salario_atual) )\n",
    "      "
   ]
  },
  {
   "cell_type": "markdown",
   "metadata": {},
   "source": [
    "Questão 6: \n",
    "\n",
    "Agora, você vai fazer uma calculadora, na qual o usuário insere 2 números, \n",
    "\n",
    "e você precisa imprimir, usando a função format, \n",
    "\n",
    "a soma, subtração, divisão e seu resto.(números inteiros)."
   ]
  },
  {
   "cell_type": "code",
   "execution_count": 30,
   "metadata": {},
   "outputs": [
    {
     "name": "stdout",
     "output_type": "stream",
     "text": [
      " A soma entre eles é 15, a subtracao é 9, a divisao é 4.0, e seu resto é 0\n"
     ]
    }
   ],
   "source": [
    "# Variaveis recebem do usuario os valores para processar operacoes\n",
    "\n",
    "num1 = int(input(\"Insira o 1º numero : \" ))\n",
    "num2 = int(input(\"insira o 2º numero : \" ))\n",
    "\n",
    "# Variaveis recebem resultado de cada operacao\n",
    "\n",
    "soma = num1 + num2\n",
    "subtracao = num1 - num2\n",
    "divisao = num1 / num2\n",
    "resto = num1 % num2\n",
    "\n",
    "# Exibe resultados das operacoes\n",
    "\n",
    "print(\" A soma entre eles é {}, a subtracao é {}, a divisao é {}, e seu resto é {}\".format(soma, subtracao, divisao, resto))\n",
    "      \n",
    "\n"
   ]
  },
  {
   "cell_type": "markdown",
   "metadata": {},
   "source": [
    "Questão 7:\n",
    "\n",
    "Você está preparando um evento para o seu instituto e precisa fazer uma ficha de cadastro. \n",
    "\n",
    "Nele a pessoa vai ter que inserir \n",
    "\n",
    "nome, altura, comida predileta,e idade(só números)."
   ]
  },
  {
   "cell_type": "code",
   "execution_count": 32,
   "metadata": {},
   "outputs": [
    {
     "name": "stdout",
     "output_type": "stream",
     "text": [
      " O seu nome é Alexa, sua altura é de 1.6 mts, sua comida predileta é lazanha, e sua idade é 57 anos.\n"
     ]
    }
   ],
   "source": [
    "# Variaveis que recebem dados do usuario\n",
    "\n",
    "nome = str(input(\" Insira seu nome : \"))\n",
    "altura = float(input(\" Insira sua altura com ponto : \"))\n",
    "comida = str(input(\" Insira sua comida predileta : \"))\n",
    "idade = int(input(\" Insira sua idade :\"))\n",
    "\n",
    "# Exibe dados cadastrados\n",
    "\n",
    "print(\" O seu nome é {}, sua altura é de {} mts, sua comida predileta é {}, e sua idade é {} anos.\".format(nome, altura, comida, idade))\n"
   ]
  },
  {
   "cell_type": "markdown",
   "metadata": {},
   "source": [
    "Questão 8:\n",
    "\n",
    "Faça um programa que leia um número inteiro e mostre seu sucessor e seu antecessor."
   ]
  },
  {
   "cell_type": "code",
   "execution_count": 35,
   "metadata": {},
   "outputs": [
    {
     "name": "stdout",
     "output_type": "stream",
     "text": [
      "O antecessor e o sucessor do numero 6 sao, respectivamente, 5 e 7.\n"
     ]
    }
   ],
   "source": [
    "# Variavel que recebe valor do usuario\n",
    "\n",
    "num3 = int(input(\" Insira um numero : \"))\n",
    "\n",
    "num_anterior = num3 - 1\n",
    "num_posterior = num3 + 1\n",
    "\n",
    "# Exibe resultado\n",
    "\n",
    "print(\"O antecessor e o sucessor do numero {} sao, respectivamente, {} e {}.\".format(num3, num_anterior, num_posterior))"
   ]
  },
  {
   "cell_type": "markdown",
   "metadata": {},
   "source": [
    "Questão 9: \n",
    "\n",
    "Escreva um programa que calcule a quantidade de latas de tintas necessárias e o custo para pintar tanques cilíndricos de combustível, em que são fornecidos a altura e o raio desse cilindro. \n",
    "\n",
    "Sabe-se que a lata de tinta custa R$50,00; cada lata contém 5 litros e cada litro de\n",
    "tinta pinta 3 m2.\n",
    "\n",
    "Area do Cilindro = 2.pi.r.(h+r)(área lateral e as 2 bases)(considere pi=3)"
   ]
  },
  {
   "cell_type": "code",
   "execution_count": 38,
   "metadata": {},
   "outputs": [
    {
     "name": "stdout",
     "output_type": "stream",
     "text": [
      " Voce via gastar R$ 4400.0\n"
     ]
    }
   ],
   "source": [
    "# Variaveis genericas\n",
    "\n",
    "h = int(input(\" Insira a altura : \"))\n",
    "r = int(input(\" Insira o raio : \"))\n",
    "pi = 3\n",
    "area = 2 * pi * r * ( h + r )\n",
    "latas = area / 3\n",
    "preco = latas * 50\n",
    "\n",
    "# Exibe resultado\n",
    "\n",
    "print(\" Voce via gastar R$ {}\".format(preco))"
   ]
  },
  {
   "cell_type": "markdown",
   "metadata": {},
   "source": [
    "Questão 10: \n",
    "\n",
    "Escreva um programa que peça para o usuário inserir a quantidade de dias que ele irá viajar com o carro e a quantidade de km que ele irá percorrer. \n",
    "\n",
    "Calcule o quanto ele irá pagar, sabendo que o preço por dia de aluguel é 85 reais e \n",
    "0,35 centavos por km rodado."
   ]
  },
  {
   "cell_type": "code",
   "execution_count": 43,
   "metadata": {},
   "outputs": [
    {
     "name": "stdout",
     "output_type": "stream",
     "text": [
      " Você percorreu 98.0 kilometros em 7 dias. O valor total gasto foi de R$ 629.3.\n"
     ]
    }
   ],
   "source": [
    "# Variaveis genericas\n",
    "\n",
    "km = float(input(\" Insira os kilometros rodados : \"))\n",
    "dias = int(input(\" Insira os dias viajados : \"))\n",
    "total = km * 0.35 + 85 * dias\n",
    "\n",
    "# Exibe resultado\n",
    "\n",
    "print(\" Você percorreu {} kilometros em {} dias. O valor total gasto foi de R$ {}.\".format(km, dias, total))\n"
   ]
  },
  {
   "cell_type": "markdown",
   "metadata": {},
   "source": [
    "Questão 11: \n",
    "\n",
    "Escreva um programa que leia um número que exiba sua parte inteira."
   ]
  },
  {
   "cell_type": "code",
   "execution_count": 44,
   "metadata": {},
   "outputs": [
    {
     "name": "stdout",
     "output_type": "stream",
     "text": [
      " A parte inteira é 87.\n"
     ]
    }
   ],
   "source": [
    "# Variaveis genericas\n",
    "\n",
    "num4 = float(input(\" Escreva um numero : \"))\n",
    "\n",
    "# Exibe resultado\n",
    "\n",
    "print(\" A parte inteira é {}.\".format(int(num4)))\n"
   ]
  },
  {
   "cell_type": "markdown",
   "metadata": {},
   "source": [
    "Questão 12: \n",
    "\n",
    "Encontre o tipo das seguintes variáveis, usando a função type(). \n",
    "\n",
    "Imprima o resultado com print(f.\n",
    "\n",
    "Amanda, \n",
    "\n",
    "12, e \n",
    "\n",
    "12.4"
   ]
  },
  {
   "cell_type": "code",
   "execution_count": 45,
   "metadata": {},
   "outputs": [
    {
     "name": "stdout",
     "output_type": "stream",
     "text": [
      " Os tipos de Amanda, 12 e 12.4 são <class 'str'>, <class 'int'> e <class 'float'>\n"
     ]
    }
   ],
   "source": [
    "# Variaveis genericas\n",
    "\n",
    "x = type(\"Amanda\")\n",
    "y = type(12)\n",
    "z = type(12.4)\n",
    "\n",
    "\n",
    "# Exibe resultado\n",
    "\n",
    "print(f\" Os tipos de Amanda, 12 e 12.4 são {x}, {y} e {z}\")\n"
   ]
  },
  {
   "cell_type": "markdown",
   "metadata": {},
   "source": [
    "Questão 13:\n",
    "\n",
    "Você vai fazer intercâmbio nos Eua, e quer saber se você tem que levar muitas roupas de frio.\n",
    "\n",
    "a)então precisa fazer um conversor de temperatura de fahrenheit para celsius.\n",
    "\n",
    "b)Agora, suponha que a temperatura convertida é um número com vírgula, arredonde ele com a função round."
   ]
  },
  {
   "cell_type": "code",
   "execution_count": 7,
   "metadata": {},
   "outputs": [
    {
     "name": "stdout",
     "output_type": "stream",
     "text": [
      "32.22222222222222\n",
      "32\n"
     ]
    }
   ],
   "source": [
    "# Variaveis genericas\n",
    "\n",
    "f = float(input(\" Coloque a temperatura em farenheit : \"))\n",
    "c = 5 * (f - 32) / 9\n",
    "\n",
    "# Exibe resultado\n",
    "\n",
    "print(c)\n",
    "\n",
    "# Variaveis genericas\n",
    "\n",
    "x = c\n",
    "d = round(x)\n",
    "\n",
    "# Exibe resultado\n",
    "\n",
    "print(d)"
   ]
  },
  {
   "cell_type": "markdown",
   "metadata": {},
   "source": [
    "Questão 14: \n",
    "\n",
    "Faça um programa que mostre se a cidade inserida começa com \"SANTO\" ou não."
   ]
  },
  {
   "cell_type": "code",
   "execution_count": 8,
   "metadata": {},
   "outputs": [
    {
     "name": "stdout",
     "output_type": "stream",
     "text": [
      "False\n"
     ]
    }
   ],
   "source": [
    "# Variaveis genericas\n",
    "\n",
    "cidade = str(input(\" Em que cidade voce nasceu ? \")).strip()\n",
    "\n",
    "\n",
    "# Exibe resultado\n",
    "\n",
    "print(cidade[:5].upper() == \"SANTO\")\n"
   ]
  },
  {
   "cell_type": "markdown",
   "metadata": {},
   "source": [
    "Questão 15:\n",
    "\n",
    "Escreva um programa que leia o nome completo de uma pessoa e mostre:\n",
    "\n",
    "-O nome com todas as letras maiúsculas e minúsculas\n",
    "\n",
    "-Quantas letras ao todo sem contar os espaços\n",
    "\n",
    "-Quantas letras tem o primeiro nome"
   ]
  },
  {
   "cell_type": "code",
   "execution_count": 9,
   "metadata": {},
   "outputs": [
    {
     "name": "stdout",
     "output_type": "stream",
     "text": [
      " Seu nome em letras maiusculas é ALEXANDRA POTTER PEDRO.\n",
      " Seu nome em letras minusculas é alexandra potter pedro.\n",
      " Seu nome tem 20 letras.\n",
      " Seu primeiro nome é Alexandra e ele tem 9 letras.\n"
     ]
    }
   ],
   "source": [
    "# Variaveis genericas\n",
    "\n",
    "nome = str(input( \" Digite seu nome completo\")).strip()\n",
    "\n",
    "# Exibe resultado\n",
    "\n",
    "print( \" Seu nome em letras maiusculas é {}.\".format(nome.upper()))\n",
    "print( \" Seu nome em letras minusculas é {}.\".format(nome.lower()))\n",
    "print( \" Seu nome tem {} letras.\".format(len(nome) - nome.count(' ')))\n",
    "\n",
    "# Variaveis genericas\n",
    "\n",
    "separa = nome.split()\n",
    "\n",
    "# Exibe resultado\n",
    "\n",
    "print(\" Seu primeiro nome é {} e ele tem {} letras.\".format(separa[0], len(separa[0])))\n"
   ]
  },
  {
   "cell_type": "markdown",
   "metadata": {},
   "source": [
    "Questão 16: \n",
    "\n",
    "Você quer achar seus parentes da família \"Soares\". Então, faça um programa que detecte se o nome inserido é da sua família."
   ]
  },
  {
   "cell_type": "code",
   "execution_count": 10,
   "metadata": {},
   "outputs": [
    {
     "name": "stdout",
     "output_type": "stream",
     "text": [
      " Seu nome tem Soares ? False\n"
     ]
    }
   ],
   "source": [
    "# Variaveis genericas\n",
    "\n",
    "nome = str(input(\" Insira o nome completo : \"))\n",
    "\n",
    "# Exibe resultado\n",
    "\n",
    "print(\" Seu nome tem Soares ? {}\".format(\"soares\" in nome.lower()))\n",
    "                                         "
   ]
  },
  {
   "cell_type": "markdown",
   "metadata": {},
   "source": [
    "Questão 17:\n",
    "\n",
    "Você está indo para o interusp, e está fazendo a lista dos 5 objetos mais importantes:bota,protetor-solar,camisinha,shorts e desodorante.\n",
    "\n",
    "a)Você se lembrou que as tattoos são mais importantes que o proteto-solar. Retire o protetor da lista e adicione as tattoos.\n",
    "\n",
    "b)Além disso, você gosta de listas organizadas por ordem alfabética, coloque-as como tal, e imprima o índice do item 'desodorante'."
   ]
  },
  {
   "cell_type": "code",
   "execution_count": 14,
   "metadata": {},
   "outputs": [
    {
     "name": "stdout",
     "output_type": "stream",
     "text": [
      "['bota', 'protetor-solar', 'camisinha', 'shorts', 'desodorante']\n",
      "['bota', 'camisinha', 'shorts', 'desodorante', 'tatoos']\n",
      "['bota', 'camisinha', 'desodorante', 'shorts', 'tatoos']\n",
      "O item 2 corresponde ao desodorante.\n"
     ]
    }
   ],
   "source": [
    "# Variaveis genericas\n",
    "\n",
    "nomes = [\"bota\", \"protetor-solar\", \"camisinha\", \"shorts\", \"desodorante\"]\n",
    "\n",
    "# Exibe resultado\n",
    "\n",
    "print(nomes)\n",
    "\n",
    "# Variaveis genericas\n",
    "\n",
    "nomes.append(\"tatoos\")\n",
    "nomes.pop(1)\n",
    "\n",
    "# Exibe resultado\n",
    "\n",
    "print(nomes)\n",
    "\n",
    "# Variaveis genericas\n",
    "\n",
    "nomes.sort()\n",
    "\n",
    "# Exibe resultado\n",
    "\n",
    "print(nomes)\n",
    "print(\"O item \" + str(nomes.index(\"desodorante\")) + \" corresponde ao desodorante.\")"
   ]
  },
  {
   "cell_type": "markdown",
   "metadata": {},
   "source": [
    "Questão 18:\n",
    "\n",
    "Chegou o final do semestre e você tem suas notas 7,9.5,8.0,2.0,1.0,3.0. Imprima sua nota máxima, mínima e a soma delas."
   ]
  },
  {
   "cell_type": "code",
   "execution_count": 15,
   "metadata": {},
   "outputs": [
    {
     "name": "stdout",
     "output_type": "stream",
     "text": [
      "30.5\n",
      "9.5\n",
      "1.0\n"
     ]
    }
   ],
   "source": [
    "# Variaveis genericas\n",
    "\n",
    "notas = [7, 9.5, 8.0, 2.0, 1.0, 3.0]\n",
    "\n",
    "# Exibe resultado\n",
    "\n",
    "print(sum(notas))\n",
    "print(max(notas))\n",
    "print(min(notas))"
   ]
  },
  {
   "cell_type": "markdown",
   "metadata": {},
   "source": [
    "Questão 19: \n",
    "\n",
    "Chegando a Copa do mundo, é importante saber as 10 melhores seleções do mundo rankeadas pela FIFA:\n",
    "\n",
    "'Brasil','Belgica','Argentina','França','Iglaterra','Italia','Holanda','Espanha','Portugal','Alemanha'.\n",
    "\n",
    "Sabendo disso, extraia:\n",
    "\n",
    "a)Os 2 primeiros colocados \n",
    "\n",
    "b)os últimos 4 colocados\n",
    "\n",
    "c)Em que posição está o nosso rival 'Argentina'"
   ]
  },
  {
   "cell_type": "code",
   "execution_count": 18,
   "metadata": {},
   "outputs": [
    {
     "name": "stdout",
     "output_type": "stream",
     "text": [
      " Os dois primeiros colocados são ['Brasil', 'Belgica']\n",
      " Os quatro ultimos colocados são ['Holanda', 'Espanha', 'Portugal', 'Alemanha']\n",
      " A Argentina esta em 3º lugar.\n"
     ]
    }
   ],
   "source": [
    "# Variaveis genericas\n",
    "\n",
    "selecoes = ['Brasil','Belgica','Argentina','França','Iglaterra','Italia','Holanda','Espanha','Portugal','Alemanha']\n",
    "\n",
    "# Exibe resultado\n",
    "\n",
    "print(f\" Os dois primeiros colocados são {selecoes[:2]}\")\n",
    "print(f\" Os quatro ultimos colocados são {selecoes[-4:]}\")\n",
    "print(f\" A Argentina esta em {selecoes.index('Argentina') + 1}º lugar.\")\n"
   ]
  },
  {
   "cell_type": "markdown",
   "metadata": {},
   "source": [
    "Questão 20:\n",
    "\n",
    "Faça um dicionário com os seguintes dados cadastrais dos alunos da Usp\n",
    "\n",
    "    Nome - Alexandra\n",
    "    idade - 57 anos\n",
    "    Instituto - ECA\n",
    "    \n",
    "    b) Agora você vai precisar fazer algumas alterações\n",
    "\n",
    "    1. Mude o nome de Alexandra para Maria\n",
    "    2.Adicione mais um campo 'Ano de ingresso - 2019'\n",
    "    3.Imprima só o ano de ingresso do aluno(só o valor)\n",
    "    4.Imprima todo o dicionário\n"
   ]
  },
  {
   "cell_type": "code",
   "execution_count": 21,
   "metadata": {},
   "outputs": [
    {
     "name": "stdout",
     "output_type": "stream",
     "text": [
      "{'Nome': 'Alexandra', 'Idade': '57 anos', 'Instituo': 'ECA'}\n",
      "2019\n",
      "--------------------------------------------------\n",
      "{'Nome': 'Maria', 'Idade': '57 anos', 'Instituo': 'ECA', 'Ano de ingresso': '2019'}\n"
     ]
    }
   ],
   "source": [
    "# Variaveis genericas\n",
    "\n",
    "cadastro = {'Nome':'Alexandra', 'Idade':'57 anos', 'Instituo': 'ECA' }\n",
    "\n",
    "# Exibe resultado\n",
    "\n",
    "print(cadastro)\n",
    "\n",
    "# Variaveis genericas\n",
    "\n",
    "cadastro['Nome'] = 'Maria'\n",
    "cadastro['Ano de ingresso'] = '2019'\n",
    "\n",
    "# Exibe resultado\n",
    "\n",
    "print(cadastro['Ano de ingresso'])\n",
    "print('--------------------------------------------------')\n",
    "print(cadastro)"
   ]
  }
 ],
 "metadata": {
  "kernelspec": {
   "display_name": "Python 3",
   "language": "python",
   "name": "python3"
  },
  "language_info": {
   "codemirror_mode": {
    "name": "ipython",
    "version": 3
   },
   "file_extension": ".py",
   "mimetype": "text/x-python",
   "name": "python",
   "nbconvert_exporter": "python",
   "pygments_lexer": "ipython3",
   "version": "3.11.5"
  },
  "orig_nbformat": 4
 },
 "nbformat": 4,
 "nbformat_minor": 2
}
